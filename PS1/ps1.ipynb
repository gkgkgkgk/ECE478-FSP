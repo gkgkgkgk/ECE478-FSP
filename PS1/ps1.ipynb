{
 "cells": [
  {
   "cell_type": "code",
   "execution_count": 5,
   "metadata": {},
   "outputs": [],
   "source": [
    "import pandas_datareader.data as web\n",
    "import pandas as pd\n",
    "from datetime import datetime, timedelta\n",
    "import numpy as np\n",
    "import matplotlib.pyplot as plt\n",
    "import matplotlib.dates as dates\n",
    "import scipy.optimize as optimize\n",
    "from numpy import random\n",
    "import yfinance as yfin"
   ]
  },
  {
   "cell_type": "markdown",
   "metadata": {},
   "source": [
    "# Data Acquisition\n",
    "\n",
    "For this assignment, two sets of five stocks were selected from two different sectors. \n",
    "\n",
    "Five stocks were selected from the tech sector:\n",
    "* Apple\n",
    "* Microsoft\n",
    "* Google\n",
    "* Meta\n",
    "* NVIDIA\n",
    "\n",
    "and five were selected from the consumer sector:\n",
    "* Amazon\n",
    "* Tesla\n",
    "* Home Depot\n",
    "* Toyota Motors\n",
    "* Nike"
   ]
  },
  {
   "cell_type": "code",
   "execution_count": null,
   "metadata": {},
   "outputs": [],
   "source": [
    "startdate= datetime(year=2017,month=12,day=31)\n",
    "enddate= datetime(year=2018,month=12,day=31)\n",
    "ticks=['AAPL', 'MSFT', 'GOOGL', 'META', 'NVDA', 'AMZN', 'TSLA', 'HD', 'TM', 'NKE']\n",
    "\n",
    "data ={}\n",
    "\n",
    "# pull data for each stock\n",
    "for tick in ticks:\n",
    "    data[tick] = web.DataReader(tick,'yahoo',startdate,enddate)"
   ]
  },
  {
   "cell_type": "code",
   "execution_count": 11,
   "metadata": {},
   "outputs": [
    {
     "name": "stdout",
     "output_type": "stream",
     "text": [
      "                 High        Low       Open      Close       Volume  Adj Close\n",
      "Date                                                                          \n",
      "2018-01-02  43.075001  42.314999  42.540001  43.064999  102223600.0  41.018433\n",
      "2018-01-03  43.637501  42.990002  43.132500  43.057499  118071600.0  41.011284\n",
      "2018-01-04  43.367500  43.020000  43.134998  43.257500   89738400.0  41.201782\n",
      "2018-01-05  43.842499  43.262501  43.360001  43.750000   94640000.0  41.670876\n",
      "2018-01-08  43.902500  43.482498  43.587502  43.587502   82271200.0  41.516106\n",
      "...               ...        ...        ...        ...          ...        ...\n",
      "2018-12-24  37.887501  36.647499  37.037498  36.707500  148676800.0  35.487961\n",
      "2018-12-26  39.307499  36.680000  37.075001  39.292500  234330000.0  37.987083\n",
      "2018-12-27  39.192501  37.517502  38.959999  39.037498  212468400.0  37.740555\n",
      "2018-12-28  39.630001  38.637501  39.375000  39.057499  169165600.0  37.759884\n",
      "2018-12-31  39.840000  39.119999  39.632500  39.435001  140014000.0  38.124847\n",
      "\n",
      "[251 rows x 6 columns]\n"
     ]
    }
   ],
   "source": [
    "# Compute daily returns\n",
    "print(data[\"AAPL\"])\n",
    "for tick in ticks:\n",
    "    data[tick][\"returns\"] = data[tick].pct_change().dropna()"
   ]
  }
 ],
 "metadata": {
  "kernelspec": {
   "display_name": "Python 3.9.13 64-bit (microsoft store)",
   "language": "python",
   "name": "python3"
  },
  "language_info": {
   "codemirror_mode": {
    "name": "ipython",
    "version": 3
   },
   "file_extension": ".py",
   "mimetype": "text/x-python",
   "name": "python",
   "nbconvert_exporter": "python",
   "pygments_lexer": "ipython3",
   "version": "3.9.13"
  },
  "orig_nbformat": 4,
  "vscode": {
   "interpreter": {
    "hash": "c41ca89259b6da98ceff8e5b19ec83068b01b09d5c956a000162044f22b0bc22"
   }
  }
 },
 "nbformat": 4,
 "nbformat_minor": 2
}
